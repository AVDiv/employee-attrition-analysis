{
 "cells": [
  {
   "cell_type": "code",
   "execution_count": null,
   "metadata": {
    "vscode": {
     "languageId": "r"
    }
   },
   "outputs": [],
   "source": [
    "install.packages(\"rpart\")\n",
    "install.packages(\"rpart.plot\")\n",
    "install.packages(\"ggplot2\")"
   ]
  },
  {
   "cell_type": "code",
   "execution_count": null,
   "metadata": {
    "vscode": {
     "languageId": "r"
    }
   },
   "outputs": [],
   "source": [
    "library(rpart)\n",
    "library(rpart.plot)\n",
    "library(ggplot2)"
   ]
  },
  {
   "cell_type": "code",
   "execution_count": null,
   "metadata": {
    "vscode": {
     "languageId": "r"
    }
   },
   "outputs": [],
   "source": [
    "\n",
    "ggplot(data = data_set, aes(x = data_set$Age, fill = data_set$Attrition)) +\n",
    "  geom_bar(position = \"dodge\", color = \"black\", stat = \"count\") +\n",
    "  labs(title = \"Attrition by Age\",\n",
    "       x = \"Age\",\n",
    "       y = \"Count\") +\n",
    "  scale_fill_manual(values = c(\"No\" = \"green\", \"Yes\" = \"red\"))\n"
   ]
  },
  {
   "cell_type": "code",
   "execution_count": null,
   "metadata": {
    "vscode": {
     "languageId": "r"
    }
   },
   "outputs": [],
   "source": [
    "\n",
    "ggplot(data = data_set, aes(x = data_set$StockOptionLevel, fill = data_set$Attrition)) +\n",
    "  geom_bar(position = \"dodge\", color = \"black\", stat = \"count\") +\n",
    "  labs(title = \"Attrition by Age\",\n",
    "       x = \"stock Option level\",\n",
    "       y = \"Count\") +\n",
    "  scale_fill_manual(values = c(\"No\" = \"green\", \"Yes\" = \"red\"))"
   ]
  },
  {
   "cell_type": "code",
   "execution_count": null,
   "metadata": {
    "vscode": {
     "languageId": "r"
    }
   },
   "outputs": [],
   "source": [
    "\n",
    "ggplot(data = data_set, aes(x = data_set$PercentSalaryHike, fill = data_set$Attrition)) +\n",
    "  geom_bar(position = \"dodge\", color = \"black\", stat = \"count\") +\n",
    "  labs(title = \"Attrition by Age\",\n",
    "       x = \"Percentage By salary hike\",\n",
    "       y = \"Count\") +\n",
    "  scale_fill_manual(values = c(\"No\" = \"green\", \"Yes\" = \"red\"))"
   ]
  },
  {
   "cell_type": "code",
   "execution_count": null,
   "metadata": {},
   "outputs": [],
   "source": [
    "#for the scatter plot this plot shows that the attrition is not accuracy if take arguments with daily rate\n",
    "\n",
    "# Assuming 'my_data' is a data frame with 'DailyRate', 'EmployeeNumber', and 'Attrition' columns\n",
    "ggplot(data = data_set, aes(x = data_set$EmployeeNumber, y = DailyRate, color = Attrition)) +\n",
    "  geom_point() +\n",
    "  labs(title = \"Scatter Plot of Daily Rate by Employee Number\",\n",
    "       x = \"Employee Number\",\n",
    "       y = \"Daily Rate\") +\n",
    "  scale_color_manual(values = c(\"No\" = \"green\", \"Yes\" = \"red\"))\n"
   ]
  },
  {
   "cell_type": "code",
   "execution_count": null,
   "metadata": {},
   "outputs": [],
   "source": [
    "#this clearly shows that the attrition is not accuracy if take arguments with job level and overtime\n",
    "ggplot(data = data_set, aes(x = data_set$JobLevel , y = data_set$OverTime, color = Attrition)) +\n",
    "  geom_point() +\n",
    "  labs(title = \"Scatter Plot of Daily Rate by Employee Number\",\n",
    "       x = \"Employee Number\",\n",
    "       y = \"Daily Rate\") +\n",
    "  scale_color_manual(values = c(\"No\" = \"green\", \"Yes\" = \"red\"))\n"
   ]
  },
  {
   "cell_type": "code",
   "execution_count": null,
   "metadata": {},
   "outputs": [],
   "source": [
    "#this plot shows how much attrion is gonna come up with the current job role\n",
    "\n",
    "\n",
    "ggplot(data = data_set, aes(x = data_set$YearsInCurrentRole, fill = data_set$Attrition)) +\n",
    "  geom_bar(position = \"dodge\", color = \"black\", stat = \"count\") +\n",
    "  labs(title = \"Attrition by Age\",\n",
    "       x = \"years in current position\",\n",
    "       y = \"count\") +\n",
    "  scale_fill_manual(values = c(\"No\" = \"green\", \"Yes\" = \"red\"))\n",
    "\n"
   ]
  },
  {
   "cell_type": "code",
   "execution_count": null,
   "metadata": {},
   "outputs": [],
   "source": [
    "ggplot(data = data_set, aes(x = data_set$EmployeeNumber , y = data_set$DailyRate, color = Attrition)) +\n",
    "  geom_point() +\n",
    "  labs(title = \"Scatter Plot of Daily Rate by Employee Number\",\n",
    "       x = \"Employee Number\",\n",
    "       y = \"Daily Rate\") +\n",
    "  scale_color_manual(values = c(\"No\" = \"green\", \"Yes\" = \"red\"))\n",
    "\n",
    "\n",
    "\n",
    "#this plot shows how much attrion is gonna come up with the last promotion for job role"
   ]
  },
  {
   "cell_type": "code",
   "execution_count": null,
   "metadata": {},
   "outputs": [
    {
     "ename": "",
     "evalue": "",
     "output_type": "error",
     "traceback": [
      "\u001b[1;31mRunning cells with 'c:\\Users\\Admin\\AppData\\Local\\Programs\\Python\\Python312\\python.exe' requires the ipykernel package.\n",
      "\u001b[1;31mRun the following command to install 'ipykernel' into the Python environment. \n",
      "\u001b[1;31mCommand: 'c:/Users/Admin/AppData/Local/Programs/Python/Python312/python.exe -m pip install ipykernel -U --user --force-reinstall'"
     ]
    }
   ],
   "source": [
    "#this plot shows how the attrition is vary from the monthly income and years at company \n",
    "#so this will help to desicion tree to identify the attrition\n",
    "ggplot(data_set, aes(x = data_set$MonthlyIncome, y = data_set$YearsAtCompany, size = factor(Attrition))) +\n",
    "  geom_point(aes(color = factor(Attrition)), alpha = 0.7) +\n",
    "  scale_size_manual(values = c(3, 8), guide = FALSE) +\n",
    "  labs(title = \"Bubble Plot of Years Since Current Role vs. Employee Number\",\n",
    "       x = \"monthly Income\",\n",
    "       y = \"job Role\",\n",
    "       color = \"Attrition\") +\n",
    "  theme_minimal()\n",
    "\n"
   ]
  },
  {
   "cell_type": "code",
   "execution_count": null,
   "metadata": {},
   "outputs": [],
   "source": [
    "#this plot shows how the monthly income and distance from home is vary from the attrition\n",
    "\n",
    "ggplot(data_set, aes(x = data_set$MonthlyIncome, y = data_set$DistanceFromHome, size = factor(Attrition))) +\n",
    "  geom_point(aes(color = factor(Attrition)), alpha = 0.7) +\n",
    "  scale_size_manual(values = c(3, 8), guide = FALSE) +\n",
    "  labs(title = \"Bubble Plot of monthly income affect of distance from home\",\n",
    "       x = \"monthly Income\",\n",
    "       y = \"distanceFrom Home rate\",\n",
    "       color = \"Attrition\") +\n",
    "  theme_minimal()\n"
   ]
  },
  {
   "cell_type": "code",
   "execution_count": null,
   "metadata": {},
   "outputs": [],
   "source": [
    "ggplot(data_set, aes(x = data_set$HourlyRate, y = data_set$JobRole, size = factor(Attrition))) +\n",
    "  geom_point(aes(color = factor(Attrition)), alpha = 0.7) +\n",
    "  scale_size_manual(values = c(3, 8), guide = FALSE) +\n",
    "  labs(title = \"Bubble Plot of hourly rate and job role\",\n",
    "       x = \"hourly rate\",\n",
    "       y = \"jobe role\",\n",
    "       color = \"Attrition\") +\n",
    "  theme_minimal()\n",
    "\n",
    "#this plot shows how the attrition is vary from the hourly rate and job role"
   ]
  },
  {
   "cell_type": "code",
   "execution_count": null,
   "metadata": {},
   "outputs": [],
   "source": [
    "ggplot(data_set, aes(x = data_set$HourlyRate, y = data_set$JobSatisfaction, size = factor(Attrition))) +\n",
    "  geom_point(aes(color = factor(Attrition)), alpha = 0.7) +\n",
    "  scale_size_manual(values = c(3, 8), guide = FALSE) +\n",
    "  labs(title = \"Bubble Plot of hourly rate and job role\",\n",
    "       x = \"hourly rate\",\n",
    "       y = \"jobe role\",\n",
    "       color = \"Attrition\") +\n",
    "  theme_minimal()\n",
    "\n",
    "#this plot shows how the attrition is vary from the hourly rate and job satisfaction\n",
    "#as this plot gets mixed up results so we can't take this plot for the decision tree"
   ]
  },
  {
   "cell_type": "code",
   "execution_count": null,
   "metadata": {},
   "outputs": [],
   "source": [
    "summary_data <- data_set %>%\n",
    "  group_by(JobRole) %>%\n",
    "  summarise(AvgMonthlyIncome = mean(data_set$MonthlyIncome, na.rm = TRUE))\n",
    "\n",
    "\n",
    "ggplot(summary_data, aes(x = summary_data$JobRole, y = summary_data$AvgMonthlyIncome, fill = JobRole)) +\n",
    "  geom_bar(stat = \"identity\", position = \"dodge\") +\n",
    "  labs(title = \"Average Monthly Income by Job Role\",\n",
    "       x = \"Job Role\",\n",
    "       y = \"Average Monthly Income\") +\n",
    "  theme_minimal()\n",
    "\n",
    "#this plot shows how the attrition is vary from the job role and average monthly income\n",
    "#as this plot shows the job role is gonna independent from anything"
   ]
  }
 ],
 "metadata": {
  "kernelspec": {
   "display_name": "R",
   "language": "R",
   "name": "ir"
  },
  "language_info": {
   "name": "R",
   "version": "3.12.0"
  }
 },
 "nbformat": 4,
 "nbformat_minor": 2
}
