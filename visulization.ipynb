{
 "cells": [
  {
   "cell_type": "code",
   "execution_count": null,
   "metadata": {
    "vscode": {
     "languageId": "r"
    }
   },
   "outputs": [],
   "source": [
    "install.packages(\"rpart\")\n",
    "install.packages(\"rpart.plot\")\n",
    "install.packages(\"ggplot2\")"
   ]
  },
  {
   "cell_type": "code",
   "execution_count": null,
   "metadata": {
    "vscode": {
     "languageId": "r"
    }
   },
   "outputs": [],
   "source": [
    "library(rpart)\n",
    "library(rpart.plot)\n",
    "library(ggplot2)"
   ]
  },
  {
   "cell_type": "code",
   "execution_count": null,
   "metadata": {
    "vscode": {
     "languageId": "r"
    }
   },
   "outputs": [],
   "source": [
    "\n",
    "ggplot(data = data_set, aes(x = data_set$Age, fill = data_set$Attrition)) +\n",
    "  geom_bar(position = \"dodge\", color = \"black\", stat = \"count\") +\n",
    "  labs(title = \"Attrition by Age\",\n",
    "       x = \"Age\",\n",
    "       y = \"Count\") +\n",
    "  scale_fill_manual(values = c(\"No\" = \"green\", \"Yes\" = \"red\"))\n"
   ]
  },
  {
   "cell_type": "code",
   "execution_count": null,
   "metadata": {
    "vscode": {
     "languageId": "r"
    }
   },
   "outputs": [],
   "source": [
    "\n",
    "ggplot(data = data_set, aes(x = data_set$StockOptionLevel, fill = data_set$Attrition)) +\n",
    "  geom_bar(position = \"dodge\", color = \"black\", stat = \"count\") +\n",
    "  labs(title = \"Attrition by Age\",\n",
    "       x = \"stock Option level\",\n",
    "       y = \"Count\") +\n",
    "  scale_fill_manual(values = c(\"No\" = \"green\", \"Yes\" = \"red\"))"
   ]
  },
  {
   "cell_type": "code",
   "execution_count": null,
   "metadata": {
    "vscode": {
     "languageId": "r"
    }
   },
   "outputs": [],
   "source": [
    "\n",
    "ggplot(data = data_set, aes(x = data_set$PercentSalaryHike, fill = data_set$Attrition)) +\n",
    "  geom_bar(position = \"dodge\", color = \"black\", stat = \"count\") +\n",
    "  labs(title = \"Attrition by Age\",\n",
    "       x = \"Percentage By salary hike\",\n",
    "       y = \"Count\") +\n",
    "  scale_fill_manual(values = c(\"No\" = \"green\", \"Yes\" = \"red\"))"
   ]
  }
 ],
 "metadata": {
  "kernelspec": {
   "display_name": "R",
   "language": "R",
   "name": "ir"
  },
  "language_info": {
   "name": "R",
   "version": "3.12.0"
  }
 },
 "nbformat": 4,
 "nbformat_minor": 2
}
