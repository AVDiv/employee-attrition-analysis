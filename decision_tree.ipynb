{
 "cells": [
  {
   "cell_type": "code",
   "execution_count": null,
   "metadata": {},
   "outputs": [],
   "source": []
  },
  {
   "cell_type": "code",
   "execution_count": null,
   "metadata": {},
   "outputs": [],
   "source": [
    "#installing nessesary packages\n",
    "\n",
    "install.packages(\"rpart\")\n",
    "install.packages(\"rpart.plot\")\n",
    "install.packages(\"caTools\")\n",
    "library(caTools)\n",
    "library(rpart)\n",
    "library(rpart.plot)"
   ]
  },
  {
   "cell_type": "code",
   "execution_count": null,
   "metadata": {},
   "outputs": [
    {
     "ename": "",
     "evalue": "",
     "output_type": "error",
     "traceback": [
      "\u001b[1;31mRunning cells with 'c:\\Users\\Admin\\AppData\\Local\\Programs\\Python\\Python312\\python.exe' requires the ipykernel package.\n",
      "\u001b[1;31mRun the following command to install 'ipykernel' into the Python environment. \n",
      "\u001b[1;31mCommand: 'c:/Users/Admin/AppData/Local/Programs/Python/Python312/python.exe -m pip install ipykernel -U --user --force-reinstall'"
     ]
    }
   ],
   "source": [
    "#just to getting nessasary data after pre processing\n",
    "original_data <- read.csv(\"./dataset.csv\", header = TRUE)\n",
    "show(original_data)\n",
    "\n"
   ]
  },
  {
   "cell_type": "code",
   "execution_count": null,
   "metadata": {},
   "outputs": [
    {
     "ename": "",
     "evalue": "",
     "output_type": "error",
     "traceback": [
      "\u001b[1;31mRunning cells with 'c:\\Users\\Admin\\AppData\\Local\\Programs\\Python\\Python312\\python.exe' requires the ipykernel package.\n",
      "\u001b[1;31mRun the following command to install 'ipykernel' into the Python environment. \n",
      "\u001b[1;31mCommand: 'c:/Users/Admin/AppData/Local/Programs/Python/Python312/python.exe -m pip install ipykernel -U --user --force-reinstall'"
     ]
    }
   ],
   "source": [
    "# to create the heat map so can get idea of corelation between the features\n",
    "\n",
    "corr_dataset <- dataset\n",
    "\n",
    "numeric_data <- corr_dataset %>%\n",
    "  select_if(is.numeric)\n",
    "\n",
    "cor_matrix <- cor(numeric_data)\n",
    "\n",
    "par(mar = c(2, 2, 2, 2))  # Adjust the margins if needed\n",
    "corrplot(cor_matrix, method = \"color\", order=\"AOE\", addCoef.col = \"black\", tl.col = \"black\", tl.srt = 90, number.cex = 0.4)"
   ]
  },
  {
   "cell_type": "code",
   "execution_count": null,
   "metadata": {},
   "outputs": [
    {
     "ename": "",
     "evalue": "",
     "output_type": "error",
     "traceback": [
      "\u001b[1;31mRunning cells with 'c:\\Users\\Admin\\AppData\\Local\\Programs\\Python\\Python312\\python.exe' requires the ipykernel package.\n",
      "\u001b[1;31mRun the following command to install 'ipykernel' into the Python environment. \n",
      "\u001b[1;31mCommand: 'c:/Users/Admin/AppData/Local/Programs/Python/Python312/python.exe -m pip install ipykernel -U --user --force-reinstall'"
     ]
    }
   ],
   "source": [
    "#data to be processed\n",
    "data_set <- read.csv(\"./dataset.csv\", header = TRUE)\n",
    "\n",
    "#cleaning dataset according to the heat map \n",
    "\n",
    "columns_to_remove <- c(\"Over18\",\n",
    "                       \"EmployeeCount\",\n",
    "                       \"BusinessTravel\",\n",
    "                       \"EmployeeNumber\" ,\n",
    "                       \"StandardHours\" ,\n",
    "                       \"YearsWithCurrManager\" ,\n",
    "                       \"Department\",\n",
    "                       \"Age\",\n",
    "                       \"YearsAtCompany\",\n",
    "                       \"YearsSinceLastPromotion\",\n",
    "                       \"YearsInCurrentRole\",\n",
    "                       \"JobLevel\",\n",
    "                       \"YearsInCurrentRole\",\n",
    "                       \"NumCompaniesWorked\",\n",
    "                       \"Gender\"\n",
    "                       )\n",
    "\n",
    "data_set <- data_set[, -which(names(data_set) %in% columns_to_remove)]\n",
    "\n",
    "\n",
    "\n"
   ]
  },
  {
   "cell_type": "code",
   "execution_count": null,
   "metadata": {},
   "outputs": [
    {
     "ename": "",
     "evalue": "",
     "output_type": "error",
     "traceback": [
      "\u001b[1;31mRunning cells with 'c:\\Users\\Admin\\AppData\\Local\\Programs\\Python\\Python312\\python.exe' requires the ipykernel package.\n",
      "\u001b[1;31mRun the following command to install 'ipykernel' into the Python environment. \n",
      "\u001b[1;31mCommand: 'c:/Users/Admin/AppData/Local/Programs/Python/Python312/python.exe -m pip install ipykernel -U --user --force-reinstall'"
     ]
    }
   ],
   "source": [
    "# Initialize a vector to store accuracies\n",
    "accuracies <- numeric(10)"
   ]
  },
  {
   "cell_type": "code",
   "execution_count": null,
   "metadata": {},
   "outputs": [
    {
     "ename": "",
     "evalue": "",
     "output_type": "error",
     "traceback": [
      "\u001b[1;31mRunning cells with 'c:\\Users\\Admin\\AppData\\Local\\Programs\\Python\\Python312\\python.exe' requires the ipykernel package.\n",
      "\u001b[1;31mRun the following command to install 'ipykernel' into the Python environment. \n",
      "\u001b[1;31mCommand: 'c:/Users/Admin/AppData/Local/Programs/Python/Python312/python.exe -m pip install ipykernel -U --user --force-reinstall'"
     ]
    }
   ],
   "source": [
    "#process of desicion tree model for 10 times\n",
    "\n",
    "for (i in 1:10) {\n",
    "  \n",
    "  # Set seed for each iteration (optional, depends on your use case)\n",
    "  set.seed(120+ i*i)\n",
    "  \n",
    "  split_ratio <- sample.split(data_set, SplitRatio = 0.7)\n",
    "  \n",
    "  train_data <-  subset(data_set, split_ratio==\"TRUE\")\n",
    "  test_data <- subset(data_set, split_ratio==\"FALSE\")\n",
    "  \n",
    "  \n",
    "  head(test_data)\n",
    "  \n",
    "  decision_tree <- rpart(Attrition ~ ., data = train_data, method = \"class\")\n",
    "  \n",
    "  predictions <- predict(decision_tree, newdata = test_data, type = \"class\")\n",
    "  \n",
    "  confusion_matrix <- table(predictions, test_data$Attrition)\n",
    "  \n",
    "  dim(confusion_matrix)\n",
    "  \n",
    "  accuracy <- sum(diag(confusion_matrix)) / sum(confusion_matrix)\n",
    "  \n",
    "  # Store the accuracy in the vector\n",
    "  accuracies[i] <- accuracy\n",
    "  \n",
    "  print(paste(\"Accuracy for iteration\", i, \":\", accuracy))\n",
    "}\n"
   ]
  },
  {
   "cell_type": "code",
   "execution_count": null,
   "metadata": {},
   "outputs": [],
   "source": [
    "#to print the accuracy of the model for 10 times\n",
    "\n",
    "average_accuracy <- mean(accuracies)\n",
    "\n",
    "print(paste(\"Average Accuracy:\", average_accuracy))\n",
    "\n"
   ]
  }
 ],
 "metadata": {
  "kernelspec": {
   "display_name": "Python 3",
   "language": "python",
   "name": "python3"
  },
  "language_info": {
   "name": "python",
   "version": "3.12.0"
  }
 },
 "nbformat": 4,
 "nbformat_minor": 2
}
