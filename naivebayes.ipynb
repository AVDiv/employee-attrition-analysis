{
 "cells": [
  {
   "cell_type": "code",
   "execution_count": null,
   "metadata": {
    "vscode": {
     "languageId": "r"
    }
   },
   "outputs": [],
   "source": [
    "install.packages(\"caret\")\n",
    "install.packages(\"e1071\")\n",
    "install.packages(\"caTools\")\n",
    "install.packages(\"ggplot2\")\n",
    "install.packages(\"dplyr\")\n",
    "install.packages(\"corrplot\")\n",
    "install.packages(\"grid\")\n",
    "install.packages(\"gridExtra\")"
   ]
  },
  {
   "cell_type": "code",
   "execution_count": null,
   "metadata": {
    "vscode": {
     "languageId": "r"
    }
   },
   "outputs": [],
   "source": [
    "library(ggplot2)\n",
    "library(grid)\n",
    "library(lattice)\n",
    "library(gridExtra)\n",
    "\n",
    "library(caTools)\n",
    "library(caret)\n",
    "library(e1071)\n",
    "\n",
    "library(dplyr)\n",
    "library(corrplot)"
   ]
  },
  {
   "cell_type": "code",
   "execution_count": 5,
   "metadata": {
    "vscode": {
     "languageId": "r"
    }
   },
   "outputs": [],
   "source": [
    "dataset <- read.csv(\"./dataset.csv\", header = TRUE)"
   ]
  },
  {
   "cell_type": "code",
   "execution_count": 6,
   "metadata": {
    "vscode": {
     "languageId": "r"
    }
   },
   "outputs": [],
   "source": [
    "# Basic summarizations\n",
    "dim(dataset)\n",
    "summary(dataset)"
   ]
  },
  {
   "cell_type": "code",
   "execution_count": 7,
   "metadata": {
    "vscode": {
     "languageId": "r"
    }
   },
   "outputs": [
    {
     "data": {
      "text/html": [
       "<style>\n",
       ".list-inline {list-style: none; margin:0; padding: 0}\n",
       ".list-inline>li {display: inline-block}\n",
       ".list-inline>li:not(:last-child)::after {content: \"\\00b7\"; padding: 0 .5ex}\n",
       "</style>\n",
       "<ol class=list-inline><li>1470</li><li>31</li></ol>\n"
      ],
      "text/latex": [
       "\\begin{enumerate*}\n",
       "\\item 1470\n",
       "\\item 31\n",
       "\\end{enumerate*}\n"
      ],
      "text/markdown": [
       "1. 1470\n",
       "2. 31\n",
       "\n",
       "\n"
      ],
      "text/plain": [
       "[1] 1470   31"
      ]
     },
     "metadata": {},
     "output_type": "display_data"
    }
   ],
   "source": [
    "# Removing obvious useless columns\n",
    "dataset$EmployeeNumber <- NULL\n",
    "dataset$StandardHours <- NULL\n",
    "dataset$Over18 <- NULL\n",
    "dataset$EmployeeCount <- NULL"
   ]
  },
  {
   "cell_type": "code",
   "execution_count": null,
   "metadata": {
    "vscode": {
     "languageId": "r"
    }
   },
   "outputs": [],
   "source": [
    "corr_dataset <- dataset\n",
    "\n",
    "numeric_data <- corr_dataset %>%\n",
    "  select_if(is.numeric)\n",
    "\n",
    "cor_matrix <- cor(numeric_data)\n",
    "\n",
    "par(mar = c(2, 2, 2, 2))  # Adjust the margins if needed\n",
    "corrplot(cor_matrix, method = \"color\", order=\"AOE\", addCoef.col = \"black\", tl.col = \"black\", tl.srt = 90, number.cex = 0.4)"
   ]
  },
  {
   "cell_type": "code",
   "execution_count": null,
   "metadata": {
    "vscode": {
     "languageId": "r"
    }
   },
   "outputs": [],
   "source": [
    "plot_list <- c()\n",
    "for(i in names(filtered_dataset)){\n",
    "    curr_plot <- ggplot(filtered_dataset, aes(x = i)) +\n",
    "  geom_histogram(aes(y = ..density..), bins = 30, fill = \"skyblue\", color = \"black\", alpha = 0.7) +\n",
    "  geom_density(color = \"red\", linewidth = 1) +\n",
    "  labs(title = paste(\"Distribution of\", i),\n",
    "       x = i,\n",
    "       y = \"Density\")\n",
    "    plot_list <- c(plot_list, curr_plot)\n",
    "}\n",
    "grid.arrange(plot_list, ncol=4)"
   ]
  },
  {
   "cell_type": "markdown",
   "metadata": {},
   "source": [
    "## Naive Bayes classifier"
   ]
  },
  {
   "cell_type": "code",
   "execution_count": null,
   "metadata": {
    "vscode": {
     "languageId": "r"
    }
   },
   "outputs": [],
   "source": [
    "# Splitting the dataset into the Training set and Test set\n",
    "set.seed(7)\n",
    "split_ratio <- sample.split(nb_dataset, SplitRatio = 0.7)\n",
    "\n",
    "training_set <-  subset(nb_dataset, split_ratio==\"TRUE\")\n",
    "testing_set <- subset(nb_dataset, split_ratio==\"FALSE\")"
   ]
  },
  {
   "cell_type": "code",
   "execution_count": null,
   "metadata": {
    "vscode": {
     "languageId": "r"
    }
   },
   "outputs": [],
   "source": [
    "# Training the Naive Bayes model and predicting the Test set results\n",
    "nb_model <- naiveBayes(Attrition~., data=training_set)\n",
    "\n",
    "prediction_results <- predict(nb_model, newdata=testing_set)\n",
    "\n",
    "matrix <- table(testing_set$Attrition, prediction_results)\n",
    "cm <- confusionMatrix(matrix)\n",
    "\n",
    "print(cm)"
   ]
  },
  {
   "cell_type": "code",
   "execution_count": null,
   "metadata": {
    "vscode": {
     "languageId": "r"
    }
   },
   "outputs": [],
   "source": [
    "# Automated test to check the overall accuracy of the model\n",
    "nb_dataset <- filtered_dataset\n",
    "\n",
    "test_seeds = c(7, 10, 32, 64, 82, 100, 200, 312, 152, 123, 23)\n",
    "\n",
    "seed_len <- length(test_seeds)\n",
    "overall_accuracy <- 0\n",
    "\n",
    "for (curr_seed in test_seeds){\n",
    "    set.seed(test_seeds)\n",
    "    \n",
    "    split_ratio <- sample.split(nb_dataset, SplitRatio = 0.7)\n",
    "\n",
    "    training_set <-  subset(nb_dataset, split_ratio==\"TRUE\")\n",
    "    testing_set <- subset(nb_dataset, split_ratio==\"FALSE\")\n",
    "    \n",
    "    nb_model <- naiveBayes(Attrition~., data=training_set)\n",
    "\n",
    "    prediction_results <- predict(nb_model, newdata=testing_set)\n",
    "\n",
    "    matrix <- table(testing_set$Attrition, prediction_results)\n",
    "    cm <- confusionMatrix(matrix)\n",
    "    overall_accuracy <- overall_accuracy + cm$overall[\"Accuracy\"]\n",
    "}\n",
    "overall_accuracy <- (overall_accuracy/seed_len)*100\n",
    "\n",
    "corrplot(cor_matrix, method = \"color\", order=\"AOE\", addCoef.col = \"black\", tl.col = \"black\", tl.srt = 90, number.cex = 0.2)\n",
    "print(paste(\"Overall Accuracy:\", sprintf(\"%.2f%%\", overall_accuracy)))"
   ]
  }
 ],
 "metadata": {
  "kernelspec": {
   "display_name": "R",
   "language": "R",
   "name": "ir"
  },
  "language_info": {
   "codemirror_mode": "r",
   "file_extension": ".r",
   "mimetype": "text/x-r-source",
   "name": "R",
   "pygments_lexer": "r",
   "version": "4.3.2"
  }
 },
 "nbformat": 4,
 "nbformat_minor": 2
}
