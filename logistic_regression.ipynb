{
 "cells": [
  {
   "cell_type": "code",
   "execution_count": 1,
   "metadata": {
    "vscode": {
     "languageId": "r"
    }
   },
   "outputs": [
    {
     "name": "stderr",
     "output_type": "stream",
     "text": [
      "Installing package into ‘/home/avind/R/x86_64-pc-linux-gnu-library/4.3’\n",
      "(as ‘lib’ is unspecified)\n",
      "\n"
     ]
    },
    {
     "name": "stderr",
     "output_type": "stream",
     "text": [
      "Installing package into ‘/home/avind/R/x86_64-pc-linux-gnu-library/4.3’\n",
      "(as ‘lib’ is unspecified)\n",
      "\n"
     ]
    }
   ],
   "source": [
    "install.packages(\"dplyr\")\n",
    "install.packages(\"caret\")\n",
    "install.packages(\"caTools\")\n",
    "install.packages(\"parsnip\")\n",
    "install.packages(\"corrplot\")"
   ]
  },
  {
   "cell_type": "code",
   "execution_count": 1,
   "metadata": {
    "vscode": {
     "languageId": "r"
    }
   },
   "outputs": [
    {
     "name": "stderr",
     "output_type": "stream",
     "text": [
      "\n",
      "Attaching package: ‘dplyr’\n",
      "\n",
      "\n",
      "The following objects are masked from ‘package:stats’:\n",
      "\n",
      "    filter, lag\n",
      "\n",
      "\n",
      "The following objects are masked from ‘package:base’:\n",
      "\n",
      "    intersect, setdiff, setequal, union\n",
      "\n",
      "\n",
      "Loading required package: ggplot2\n",
      "\n",
      "Loading required package: lattice\n",
      "\n",
      "corrplot 0.92 loaded\n",
      "\n"
     ]
    }
   ],
   "source": [
    "library(dplyr)\n",
    "library(caret)\n",
    "library(caTools)\n",
    "library(parsnip)\n",
    "library(broom)\n",
    "library(corrplot)"
   ]
  },
  {
   "cell_type": "code",
   "execution_count": 2,
   "metadata": {
    "vscode": {
     "languageId": "r"
    }
   },
   "outputs": [],
   "source": [
    "dataset <- read.csv(\"./dataset.csv\", header = TRUE)"
   ]
  },
  {
   "cell_type": "code",
   "execution_count": 3,
   "metadata": {
    "vscode": {
     "languageId": "r"
    }
   },
   "outputs": [
    {
     "data": {
      "text/html": [
       "<style>\n",
       ".list-inline {list-style: none; margin:0; padding: 0}\n",
       ".list-inline>li {display: inline-block}\n",
       ".list-inline>li:not(:last-child)::after {content: \"\\00b7\"; padding: 0 .5ex}\n",
       "</style>\n",
       "<ol class=list-inline><li>1470</li><li>35</li></ol>\n"
      ],
      "text/latex": [
       "\\begin{enumerate*}\n",
       "\\item 1470\n",
       "\\item 35\n",
       "\\end{enumerate*}\n"
      ],
      "text/markdown": [
       "1. 1470\n",
       "2. 35\n",
       "\n",
       "\n"
      ],
      "text/plain": [
       "[1] 1470   35"
      ]
     },
     "metadata": {},
     "output_type": "display_data"
    },
    {
     "data": {
      "text/html": [
       "<table class=\"dataframe\">\n",
       "<caption>A data.frame: 6 × 35</caption>\n",
       "<thead>\n",
       "\t<tr><th></th><th scope=col>Age</th><th scope=col>Attrition</th><th scope=col>BusinessTravel</th><th scope=col>DailyRate</th><th scope=col>Department</th><th scope=col>DistanceFromHome</th><th scope=col>Education</th><th scope=col>EducationField</th><th scope=col>EmployeeCount</th><th scope=col>EmployeeNumber</th><th scope=col>⋯</th><th scope=col>RelationshipSatisfaction</th><th scope=col>StandardHours</th><th scope=col>StockOptionLevel</th><th scope=col>TotalWorkingYears</th><th scope=col>TrainingTimesLastYear</th><th scope=col>WorkLifeBalance</th><th scope=col>YearsAtCompany</th><th scope=col>YearsInCurrentRole</th><th scope=col>YearsSinceLastPromotion</th><th scope=col>YearsWithCurrManager</th></tr>\n",
       "\t<tr><th></th><th scope=col>&lt;int&gt;</th><th scope=col>&lt;chr&gt;</th><th scope=col>&lt;chr&gt;</th><th scope=col>&lt;int&gt;</th><th scope=col>&lt;chr&gt;</th><th scope=col>&lt;int&gt;</th><th scope=col>&lt;int&gt;</th><th scope=col>&lt;chr&gt;</th><th scope=col>&lt;int&gt;</th><th scope=col>&lt;int&gt;</th><th scope=col>⋯</th><th scope=col>&lt;int&gt;</th><th scope=col>&lt;int&gt;</th><th scope=col>&lt;int&gt;</th><th scope=col>&lt;int&gt;</th><th scope=col>&lt;int&gt;</th><th scope=col>&lt;int&gt;</th><th scope=col>&lt;int&gt;</th><th scope=col>&lt;int&gt;</th><th scope=col>&lt;int&gt;</th><th scope=col>&lt;int&gt;</th></tr>\n",
       "</thead>\n",
       "<tbody>\n",
       "\t<tr><th scope=row>1</th><td>41</td><td>Yes</td><td>Travel_Rarely    </td><td>1102</td><td>Sales                 </td><td>1</td><td>2</td><td>Life Sciences</td><td>1</td><td>1</td><td>⋯</td><td>1</td><td>80</td><td>0</td><td> 8</td><td>0</td><td>1</td><td> 6</td><td>4</td><td>0</td><td>5</td></tr>\n",
       "\t<tr><th scope=row>2</th><td>49</td><td>No </td><td>Travel_Frequently</td><td> 279</td><td>Research &amp; Development</td><td>8</td><td>1</td><td>Life Sciences</td><td>1</td><td>2</td><td>⋯</td><td>4</td><td>80</td><td>1</td><td>10</td><td>3</td><td>3</td><td>10</td><td>7</td><td>1</td><td>7</td></tr>\n",
       "\t<tr><th scope=row>3</th><td>37</td><td>Yes</td><td><span style=white-space:pre-wrap>Travel_Rarely    </span></td><td>1373</td><td>Research &amp; Development</td><td>2</td><td>2</td><td><span style=white-space:pre-wrap>Other        </span></td><td>1</td><td>4</td><td>⋯</td><td>2</td><td>80</td><td>0</td><td> 7</td><td>3</td><td>3</td><td> 0</td><td>0</td><td>0</td><td>0</td></tr>\n",
       "\t<tr><th scope=row>4</th><td>33</td><td>No </td><td>Travel_Frequently</td><td>1392</td><td>Research &amp; Development</td><td>3</td><td>4</td><td>Life Sciences</td><td>1</td><td>5</td><td>⋯</td><td>3</td><td>80</td><td>0</td><td> 8</td><td>3</td><td>3</td><td> 8</td><td>7</td><td>3</td><td>0</td></tr>\n",
       "\t<tr><th scope=row>5</th><td>27</td><td>No </td><td><span style=white-space:pre-wrap>Travel_Rarely    </span></td><td> 591</td><td>Research &amp; Development</td><td>2</td><td>1</td><td><span style=white-space:pre-wrap>Medical      </span></td><td>1</td><td>7</td><td>⋯</td><td>4</td><td>80</td><td>1</td><td> 6</td><td>3</td><td>3</td><td> 2</td><td>2</td><td>2</td><td>2</td></tr>\n",
       "\t<tr><th scope=row>6</th><td>32</td><td>No </td><td>Travel_Frequently</td><td>1005</td><td>Research &amp; Development</td><td>2</td><td>2</td><td>Life Sciences</td><td>1</td><td>8</td><td>⋯</td><td>3</td><td>80</td><td>0</td><td> 8</td><td>2</td><td>2</td><td> 7</td><td>7</td><td>3</td><td>6</td></tr>\n",
       "</tbody>\n",
       "</table>\n"
      ],
      "text/latex": [
       "A data.frame: 6 × 35\n",
       "\\begin{tabular}{r|lllllllllllllllllllll}\n",
       "  & Age & Attrition & BusinessTravel & DailyRate & Department & DistanceFromHome & Education & EducationField & EmployeeCount & EmployeeNumber & ⋯ & RelationshipSatisfaction & StandardHours & StockOptionLevel & TotalWorkingYears & TrainingTimesLastYear & WorkLifeBalance & YearsAtCompany & YearsInCurrentRole & YearsSinceLastPromotion & YearsWithCurrManager\\\\\n",
       "  & <int> & <chr> & <chr> & <int> & <chr> & <int> & <int> & <chr> & <int> & <int> & ⋯ & <int> & <int> & <int> & <int> & <int> & <int> & <int> & <int> & <int> & <int>\\\\\n",
       "\\hline\n",
       "\t1 & 41 & Yes & Travel\\_Rarely     & 1102 & Sales                  & 1 & 2 & Life Sciences & 1 & 1 & ⋯ & 1 & 80 & 0 &  8 & 0 & 1 &  6 & 4 & 0 & 5\\\\\n",
       "\t2 & 49 & No  & Travel\\_Frequently &  279 & Research \\& Development & 8 & 1 & Life Sciences & 1 & 2 & ⋯ & 4 & 80 & 1 & 10 & 3 & 3 & 10 & 7 & 1 & 7\\\\\n",
       "\t3 & 37 & Yes & Travel\\_Rarely     & 1373 & Research \\& Development & 2 & 2 & Other         & 1 & 4 & ⋯ & 2 & 80 & 0 &  7 & 3 & 3 &  0 & 0 & 0 & 0\\\\\n",
       "\t4 & 33 & No  & Travel\\_Frequently & 1392 & Research \\& Development & 3 & 4 & Life Sciences & 1 & 5 & ⋯ & 3 & 80 & 0 &  8 & 3 & 3 &  8 & 7 & 3 & 0\\\\\n",
       "\t5 & 27 & No  & Travel\\_Rarely     &  591 & Research \\& Development & 2 & 1 & Medical       & 1 & 7 & ⋯ & 4 & 80 & 1 &  6 & 3 & 3 &  2 & 2 & 2 & 2\\\\\n",
       "\t6 & 32 & No  & Travel\\_Frequently & 1005 & Research \\& Development & 2 & 2 & Life Sciences & 1 & 8 & ⋯ & 3 & 80 & 0 &  8 & 2 & 2 &  7 & 7 & 3 & 6\\\\\n",
       "\\end{tabular}\n"
      ],
      "text/markdown": [
       "\n",
       "A data.frame: 6 × 35\n",
       "\n",
       "| <!--/--> | Age &lt;int&gt; | Attrition &lt;chr&gt; | BusinessTravel &lt;chr&gt; | DailyRate &lt;int&gt; | Department &lt;chr&gt; | DistanceFromHome &lt;int&gt; | Education &lt;int&gt; | EducationField &lt;chr&gt; | EmployeeCount &lt;int&gt; | EmployeeNumber &lt;int&gt; | ⋯ ⋯ | RelationshipSatisfaction &lt;int&gt; | StandardHours &lt;int&gt; | StockOptionLevel &lt;int&gt; | TotalWorkingYears &lt;int&gt; | TrainingTimesLastYear &lt;int&gt; | WorkLifeBalance &lt;int&gt; | YearsAtCompany &lt;int&gt; | YearsInCurrentRole &lt;int&gt; | YearsSinceLastPromotion &lt;int&gt; | YearsWithCurrManager &lt;int&gt; |\n",
       "|---|---|---|---|---|---|---|---|---|---|---|---|---|---|---|---|---|---|---|---|---|---|\n",
       "| 1 | 41 | Yes | Travel_Rarely     | 1102 | Sales                  | 1 | 2 | Life Sciences | 1 | 1 | ⋯ | 1 | 80 | 0 |  8 | 0 | 1 |  6 | 4 | 0 | 5 |\n",
       "| 2 | 49 | No  | Travel_Frequently |  279 | Research &amp; Development | 8 | 1 | Life Sciences | 1 | 2 | ⋯ | 4 | 80 | 1 | 10 | 3 | 3 | 10 | 7 | 1 | 7 |\n",
       "| 3 | 37 | Yes | Travel_Rarely     | 1373 | Research &amp; Development | 2 | 2 | Other         | 1 | 4 | ⋯ | 2 | 80 | 0 |  7 | 3 | 3 |  0 | 0 | 0 | 0 |\n",
       "| 4 | 33 | No  | Travel_Frequently | 1392 | Research &amp; Development | 3 | 4 | Life Sciences | 1 | 5 | ⋯ | 3 | 80 | 0 |  8 | 3 | 3 |  8 | 7 | 3 | 0 |\n",
       "| 5 | 27 | No  | Travel_Rarely     |  591 | Research &amp; Development | 2 | 1 | Medical       | 1 | 7 | ⋯ | 4 | 80 | 1 |  6 | 3 | 3 |  2 | 2 | 2 | 2 |\n",
       "| 6 | 32 | No  | Travel_Frequently | 1005 | Research &amp; Development | 2 | 2 | Life Sciences | 1 | 8 | ⋯ | 3 | 80 | 0 |  8 | 2 | 2 |  7 | 7 | 3 | 6 |\n",
       "\n"
      ],
      "text/plain": [
       "  Age Attrition BusinessTravel    DailyRate Department            \n",
       "1 41  Yes       Travel_Rarely     1102      Sales                 \n",
       "2 49  No        Travel_Frequently  279      Research & Development\n",
       "3 37  Yes       Travel_Rarely     1373      Research & Development\n",
       "4 33  No        Travel_Frequently 1392      Research & Development\n",
       "5 27  No        Travel_Rarely      591      Research & Development\n",
       "6 32  No        Travel_Frequently 1005      Research & Development\n",
       "  DistanceFromHome Education EducationField EmployeeCount EmployeeNumber ⋯\n",
       "1 1                2         Life Sciences  1             1              ⋯\n",
       "2 8                1         Life Sciences  1             2              ⋯\n",
       "3 2                2         Other          1             4              ⋯\n",
       "4 3                4         Life Sciences  1             5              ⋯\n",
       "5 2                1         Medical        1             7              ⋯\n",
       "6 2                2         Life Sciences  1             8              ⋯\n",
       "  RelationshipSatisfaction StandardHours StockOptionLevel TotalWorkingYears\n",
       "1 1                        80            0                 8               \n",
       "2 4                        80            1                10               \n",
       "3 2                        80            0                 7               \n",
       "4 3                        80            0                 8               \n",
       "5 4                        80            1                 6               \n",
       "6 3                        80            0                 8               \n",
       "  TrainingTimesLastYear WorkLifeBalance YearsAtCompany YearsInCurrentRole\n",
       "1 0                     1                6             4                 \n",
       "2 3                     3               10             7                 \n",
       "3 3                     3                0             0                 \n",
       "4 3                     3                8             7                 \n",
       "5 3                     3                2             2                 \n",
       "6 2                     2                7             7                 \n",
       "  YearsSinceLastPromotion YearsWithCurrManager\n",
       "1 0                       5                   \n",
       "2 1                       7                   \n",
       "3 0                       0                   \n",
       "4 3                       0                   \n",
       "5 2                       2                   \n",
       "6 3                       6                   "
      ]
     },
     "metadata": {},
     "output_type": "display_data"
    }
   ],
   "source": [
    "# Basic summarizations\n",
    "dim(dataset)\n",
    "head(dataset)"
   ]
  },
  {
   "cell_type": "code",
   "execution_count": 4,
   "metadata": {
    "vscode": {
     "languageId": "r"
    }
   },
   "outputs": [],
   "source": [
    "# Removing obvious useless columns\n",
    "dataset$EmployeeNumber <- NULL\n",
    "dataset$StandardHours <- NULL\n",
    "dataset$Over18 <- NULL\n",
    "dataset$EmployeeCount <- NULL"
   ]
  },
  {
   "cell_type": "code",
   "execution_count": 5,
   "metadata": {
    "vscode": {
     "languageId": "r"
    }
   },
   "outputs": [],
   "source": [
    "# Splitting the dataset into the Training set and Test set\n",
    "model_dataset <- dataset\n",
    "model_dataset$Attrition <- as.factor(model_dataset$Attrition)\n",
    "\n",
    "set.seed(100)\n",
    "split_ratio <- sample.split(model_dataset, SplitRatio = 0.7)\n",
    "\n",
    "training_set <-  subset(model_dataset, split_ratio==\"TRUE\")\n",
    "testing_set <- subset(model_dataset, split_ratio==\"FALSE\")"
   ]
  },
  {
   "cell_type": "code",
   "execution_count": 6,
   "metadata": {
    "vscode": {
     "languageId": "r"
    }
   },
   "outputs": [
    {
     "data": {
      "text/html": [
       "<table class=\"dataframe\">\n",
       "<caption>A tibble: 45 × 5</caption>\n",
       "<thead>\n",
       "\t<tr><th scope=col>term</th><th scope=col>estimate</th><th scope=col>std.error</th><th scope=col>statistic</th><th scope=col>p.value</th></tr>\n",
       "\t<tr><th scope=col>&lt;chr&gt;</th><th scope=col>&lt;dbl&gt;</th><th scope=col>&lt;dbl&gt;</th><th scope=col>&lt;dbl&gt;</th><th scope=col>&lt;dbl&gt;</th></tr>\n",
       "</thead>\n",
       "<tbody>\n",
       "\t<tr><td>(Intercept)                     </td><td>-1.014717e+01</td><td>2.191850e+03</td><td>-0.004629499</td><td>9.963062e-01</td></tr>\n",
       "\t<tr><td>Age                             </td><td>-3.949925e-02</td><td>1.755642e-02</td><td>-2.249846603</td><td>2.445868e-02</td></tr>\n",
       "\t<tr><td>BusinessTravelTravel_Frequently </td><td> 1.683936e+00</td><td>5.309922e-01</td><td> 3.171300462</td><td>1.517581e-03</td></tr>\n",
       "\t<tr><td>BusinessTravelTravel_Rarely     </td><td> 8.109927e-01</td><td>4.867602e-01</td><td> 1.666103290</td><td>9.569284e-02</td></tr>\n",
       "\t<tr><td>DailyRate                       </td><td>-1.657446e-04</td><td>2.874360e-04</td><td>-0.576631404</td><td>5.641885e-01</td></tr>\n",
       "\t<tr><td>DepartmentResearch &amp; Development</td><td> 1.525090e+01</td><td>2.191850e+03</td><td> 0.006958004</td><td>9.944484e-01</td></tr>\n",
       "\t<tr><td>DepartmentSales                 </td><td> 1.641323e+01</td><td>2.191850e+03</td><td> 0.007488303</td><td>9.940253e-01</td></tr>\n",
       "\t<tr><td>DistanceFromHome                </td><td> 5.584796e-02</td><td>1.416061e-02</td><td> 3.943894881</td><td>8.016881e-05</td></tr>\n",
       "\t<tr><td>Education                       </td><td> 5.755325e-02</td><td>1.116497e-01</td><td> 0.515480384</td><td>6.062174e-01</td></tr>\n",
       "\t<tr><td>EducationFieldLife Sciences     </td><td>-1.670784e+00</td><td>1.405777e+00</td><td>-1.188512734</td><td>2.346315e-01</td></tr>\n",
       "\t<tr><td>EducationFieldMarketing         </td><td>-1.016433e+00</td><td>1.446377e+00</td><td>-0.702743956</td><td>4.822153e-01</td></tr>\n",
       "\t<tr><td>EducationFieldMedical           </td><td>-1.611751e+00</td><td>1.413167e+00</td><td>-1.140523993</td><td>2.540681e-01</td></tr>\n",
       "\t<tr><td>EducationFieldOther             </td><td>-1.634223e+00</td><td>1.453974e+00</td><td>-1.123970464</td><td>2.610256e-01</td></tr>\n",
       "\t<tr><td>EducationFieldTechnical Degree  </td><td>-4.854205e-01</td><td>1.413271e+00</td><td>-0.343473023</td><td>7.312426e-01</td></tr>\n",
       "\t<tr><td>EnvironmentSatisfaction         </td><td>-5.176074e-01</td><td>1.073459e-01</td><td>-4.821865756</td><td>1.422217e-06</td></tr>\n",
       "\t<tr><td>GenderMale                      </td><td> 2.793797e-01</td><td>2.353262e-01</td><td> 1.187202179</td><td>2.351479e-01</td></tr>\n",
       "\t<tr><td>HourlyRate                      </td><td>-4.992999e-04</td><td>5.615119e-03</td><td>-0.088920623</td><td>9.291450e-01</td></tr>\n",
       "\t<tr><td>JobInvolvement                  </td><td>-6.604211e-01</td><td>1.589511e-01</td><td>-4.154870535</td><td>3.254718e-05</td></tr>\n",
       "\t<tr><td>JobLevel                        </td><td>-1.577266e-01</td><td>4.224757e-01</td><td>-0.373338934</td><td>7.088962e-01</td></tr>\n",
       "\t<tr><td>JobRoleHuman Resources          </td><td> 1.519114e+01</td><td>2.191850e+03</td><td> 0.006930739</td><td>9.944701e-01</td></tr>\n",
       "\t<tr><td>JobRoleLaboratory Technician    </td><td> 1.385532e+00</td><td>6.025364e-01</td><td> 2.299499846</td><td>2.147657e-02</td></tr>\n",
       "\t<tr><td>JobRoleManager                  </td><td>-2.457545e-01</td><td>1.377901e+00</td><td>-0.178354185</td><td>8.584448e-01</td></tr>\n",
       "\t<tr><td>JobRoleManufacturing Director   </td><td>-9.064005e-02</td><td>6.988801e-01</td><td>-0.129693277</td><td>8.968091e-01</td></tr>\n",
       "\t<tr><td>JobRoleResearch Director        </td><td>-1.586501e+01</td><td>6.612178e+02</td><td>-0.023993617</td><td>9.808577e-01</td></tr>\n",
       "\t<tr><td>JobRoleResearch Scientist       </td><td> 4.088818e-01</td><td>6.045361e-01</td><td> 0.676356190</td><td>4.988145e-01</td></tr>\n",
       "\t<tr><td>JobRoleSales Executive          </td><td>-3.871521e-01</td><td>1.676475e+00</td><td>-0.230932194</td><td>8.173675e-01</td></tr>\n",
       "\t<tr><td>JobRoleSales Representative     </td><td> 7.696644e-01</td><td>1.754291e+00</td><td> 0.438732472</td><td>6.608554e-01</td></tr>\n",
       "\t<tr><td>JobSatisfaction                 </td><td>-3.852783e-01</td><td>1.055415e-01</td><td>-3.650492207</td><td>2.617383e-04</td></tr>\n",
       "\t<tr><td>MaritalStatusMarried            </td><td> 1.303472e-01</td><td>3.265984e-01</td><td> 0.399105390</td><td>6.898156e-01</td></tr>\n",
       "\t<tr><td>MaritalStatusSingle             </td><td> 1.060621e+00</td><td>4.208714e-01</td><td> 2.520060662</td><td>1.173346e-02</td></tr>\n",
       "\t<tr><td>MonthlyIncome                   </td><td>-1.818661e-05</td><td>1.061272e-04</td><td>-0.171366268</td><td>8.639358e-01</td></tr>\n",
       "\t<tr><td>MonthlyRate                     </td><td> 2.091000e-05</td><td>1.603245e-05</td><td> 1.304230020</td><td>1.921552e-01</td></tr>\n",
       "\t<tr><td>NumCompaniesWorked              </td><td> 1.735991e-01</td><td>4.847573e-02</td><td> 3.581155156</td><td>3.420784e-04</td></tr>\n",
       "\t<tr><td>OverTimeYes                     </td><td> 2.127354e+00</td><td>2.516336e-01</td><td> 8.454172904</td><td>2.810726e-17</td></tr>\n",
       "\t<tr><td>PercentSalaryHike               </td><td>-2.924797e-03</td><td>5.003643e-02</td><td>-0.058453355</td><td>9.533875e-01</td></tr>\n",
       "\t<tr><td>PerformanceRating               </td><td>-8.047221e-02</td><td>5.194034e-01</td><td>-0.154932013</td><td>8.768749e-01</td></tr>\n",
       "\t<tr><td>RelationshipSatisfaction        </td><td>-3.125983e-01</td><td>1.080312e-01</td><td>-2.893593901</td><td>3.808604e-03</td></tr>\n",
       "\t<tr><td>StockOptionLevel                </td><td>-1.627904e-01</td><td>1.964107e-01</td><td>-0.828826270</td><td>4.072027e-01</td></tr>\n",
       "\t<tr><td>TotalWorkingYears               </td><td>-2.623063e-02</td><td>3.753639e-02</td><td>-0.698805532</td><td>4.846736e-01</td></tr>\n",
       "\t<tr><td>TrainingTimesLastYear           </td><td>-1.973743e-01</td><td>9.295053e-02</td><td>-2.123434192</td><td>3.371748e-02</td></tr>\n",
       "\t<tr><td>WorkLifeBalance                 </td><td>-5.742816e-01</td><td>1.543753e-01</td><td>-3.720035233</td><td>1.991950e-04</td></tr>\n",
       "\t<tr><td>YearsAtCompany                  </td><td> 2.448083e-02</td><td>5.776359e-02</td><td> 0.423810751</td><td>6.717038e-01</td></tr>\n",
       "\t<tr><td>YearsInCurrentRole              </td><td>-1.893683e-01</td><td>6.185011e-02</td><td>-3.061729488</td><td>2.200622e-03</td></tr>\n",
       "\t<tr><td>YearsSinceLastPromotion         </td><td> 2.367605e-01</td><td>5.756613e-02</td><td> 4.112843864</td><td>3.908147e-05</td></tr>\n",
       "\t<tr><td>YearsWithCurrManager            </td><td>-1.045516e-01</td><td>6.637798e-02</td><td>-1.575095174</td><td>1.152345e-01</td></tr>\n",
       "</tbody>\n",
       "</table>\n"
      ],
      "text/latex": [
       "A tibble: 45 × 5\n",
       "\\begin{tabular}{lllll}\n",
       " term & estimate & std.error & statistic & p.value\\\\\n",
       " <chr> & <dbl> & <dbl> & <dbl> & <dbl>\\\\\n",
       "\\hline\n",
       "\t (Intercept)                      & -1.014717e+01 & 2.191850e+03 & -0.004629499 & 9.963062e-01\\\\\n",
       "\t Age                              & -3.949925e-02 & 1.755642e-02 & -2.249846603 & 2.445868e-02\\\\\n",
       "\t BusinessTravelTravel\\_Frequently  &  1.683936e+00 & 5.309922e-01 &  3.171300462 & 1.517581e-03\\\\\n",
       "\t BusinessTravelTravel\\_Rarely      &  8.109927e-01 & 4.867602e-01 &  1.666103290 & 9.569284e-02\\\\\n",
       "\t DailyRate                        & -1.657446e-04 & 2.874360e-04 & -0.576631404 & 5.641885e-01\\\\\n",
       "\t DepartmentResearch \\& Development &  1.525090e+01 & 2.191850e+03 &  0.006958004 & 9.944484e-01\\\\\n",
       "\t DepartmentSales                  &  1.641323e+01 & 2.191850e+03 &  0.007488303 & 9.940253e-01\\\\\n",
       "\t DistanceFromHome                 &  5.584796e-02 & 1.416061e-02 &  3.943894881 & 8.016881e-05\\\\\n",
       "\t Education                        &  5.755325e-02 & 1.116497e-01 &  0.515480384 & 6.062174e-01\\\\\n",
       "\t EducationFieldLife Sciences      & -1.670784e+00 & 1.405777e+00 & -1.188512734 & 2.346315e-01\\\\\n",
       "\t EducationFieldMarketing          & -1.016433e+00 & 1.446377e+00 & -0.702743956 & 4.822153e-01\\\\\n",
       "\t EducationFieldMedical            & -1.611751e+00 & 1.413167e+00 & -1.140523993 & 2.540681e-01\\\\\n",
       "\t EducationFieldOther              & -1.634223e+00 & 1.453974e+00 & -1.123970464 & 2.610256e-01\\\\\n",
       "\t EducationFieldTechnical Degree   & -4.854205e-01 & 1.413271e+00 & -0.343473023 & 7.312426e-01\\\\\n",
       "\t EnvironmentSatisfaction          & -5.176074e-01 & 1.073459e-01 & -4.821865756 & 1.422217e-06\\\\\n",
       "\t GenderMale                       &  2.793797e-01 & 2.353262e-01 &  1.187202179 & 2.351479e-01\\\\\n",
       "\t HourlyRate                       & -4.992999e-04 & 5.615119e-03 & -0.088920623 & 9.291450e-01\\\\\n",
       "\t JobInvolvement                   & -6.604211e-01 & 1.589511e-01 & -4.154870535 & 3.254718e-05\\\\\n",
       "\t JobLevel                         & -1.577266e-01 & 4.224757e-01 & -0.373338934 & 7.088962e-01\\\\\n",
       "\t JobRoleHuman Resources           &  1.519114e+01 & 2.191850e+03 &  0.006930739 & 9.944701e-01\\\\\n",
       "\t JobRoleLaboratory Technician     &  1.385532e+00 & 6.025364e-01 &  2.299499846 & 2.147657e-02\\\\\n",
       "\t JobRoleManager                   & -2.457545e-01 & 1.377901e+00 & -0.178354185 & 8.584448e-01\\\\\n",
       "\t JobRoleManufacturing Director    & -9.064005e-02 & 6.988801e-01 & -0.129693277 & 8.968091e-01\\\\\n",
       "\t JobRoleResearch Director         & -1.586501e+01 & 6.612178e+02 & -0.023993617 & 9.808577e-01\\\\\n",
       "\t JobRoleResearch Scientist        &  4.088818e-01 & 6.045361e-01 &  0.676356190 & 4.988145e-01\\\\\n",
       "\t JobRoleSales Executive           & -3.871521e-01 & 1.676475e+00 & -0.230932194 & 8.173675e-01\\\\\n",
       "\t JobRoleSales Representative      &  7.696644e-01 & 1.754291e+00 &  0.438732472 & 6.608554e-01\\\\\n",
       "\t JobSatisfaction                  & -3.852783e-01 & 1.055415e-01 & -3.650492207 & 2.617383e-04\\\\\n",
       "\t MaritalStatusMarried             &  1.303472e-01 & 3.265984e-01 &  0.399105390 & 6.898156e-01\\\\\n",
       "\t MaritalStatusSingle              &  1.060621e+00 & 4.208714e-01 &  2.520060662 & 1.173346e-02\\\\\n",
       "\t MonthlyIncome                    & -1.818661e-05 & 1.061272e-04 & -0.171366268 & 8.639358e-01\\\\\n",
       "\t MonthlyRate                      &  2.091000e-05 & 1.603245e-05 &  1.304230020 & 1.921552e-01\\\\\n",
       "\t NumCompaniesWorked               &  1.735991e-01 & 4.847573e-02 &  3.581155156 & 3.420784e-04\\\\\n",
       "\t OverTimeYes                      &  2.127354e+00 & 2.516336e-01 &  8.454172904 & 2.810726e-17\\\\\n",
       "\t PercentSalaryHike                & -2.924797e-03 & 5.003643e-02 & -0.058453355 & 9.533875e-01\\\\\n",
       "\t PerformanceRating                & -8.047221e-02 & 5.194034e-01 & -0.154932013 & 8.768749e-01\\\\\n",
       "\t RelationshipSatisfaction         & -3.125983e-01 & 1.080312e-01 & -2.893593901 & 3.808604e-03\\\\\n",
       "\t StockOptionLevel                 & -1.627904e-01 & 1.964107e-01 & -0.828826270 & 4.072027e-01\\\\\n",
       "\t TotalWorkingYears                & -2.623063e-02 & 3.753639e-02 & -0.698805532 & 4.846736e-01\\\\\n",
       "\t TrainingTimesLastYear            & -1.973743e-01 & 9.295053e-02 & -2.123434192 & 3.371748e-02\\\\\n",
       "\t WorkLifeBalance                  & -5.742816e-01 & 1.543753e-01 & -3.720035233 & 1.991950e-04\\\\\n",
       "\t YearsAtCompany                   &  2.448083e-02 & 5.776359e-02 &  0.423810751 & 6.717038e-01\\\\\n",
       "\t YearsInCurrentRole               & -1.893683e-01 & 6.185011e-02 & -3.061729488 & 2.200622e-03\\\\\n",
       "\t YearsSinceLastPromotion          &  2.367605e-01 & 5.756613e-02 &  4.112843864 & 3.908147e-05\\\\\n",
       "\t YearsWithCurrManager             & -1.045516e-01 & 6.637798e-02 & -1.575095174 & 1.152345e-01\\\\\n",
       "\\end{tabular}\n"
      ],
      "text/markdown": [
       "\n",
       "A tibble: 45 × 5\n",
       "\n",
       "| term &lt;chr&gt; | estimate &lt;dbl&gt; | std.error &lt;dbl&gt; | statistic &lt;dbl&gt; | p.value &lt;dbl&gt; |\n",
       "|---|---|---|---|---|\n",
       "| (Intercept)                      | -1.014717e+01 | 2.191850e+03 | -0.004629499 | 9.963062e-01 |\n",
       "| Age                              | -3.949925e-02 | 1.755642e-02 | -2.249846603 | 2.445868e-02 |\n",
       "| BusinessTravelTravel_Frequently  |  1.683936e+00 | 5.309922e-01 |  3.171300462 | 1.517581e-03 |\n",
       "| BusinessTravelTravel_Rarely      |  8.109927e-01 | 4.867602e-01 |  1.666103290 | 9.569284e-02 |\n",
       "| DailyRate                        | -1.657446e-04 | 2.874360e-04 | -0.576631404 | 5.641885e-01 |\n",
       "| DepartmentResearch &amp; Development |  1.525090e+01 | 2.191850e+03 |  0.006958004 | 9.944484e-01 |\n",
       "| DepartmentSales                  |  1.641323e+01 | 2.191850e+03 |  0.007488303 | 9.940253e-01 |\n",
       "| DistanceFromHome                 |  5.584796e-02 | 1.416061e-02 |  3.943894881 | 8.016881e-05 |\n",
       "| Education                        |  5.755325e-02 | 1.116497e-01 |  0.515480384 | 6.062174e-01 |\n",
       "| EducationFieldLife Sciences      | -1.670784e+00 | 1.405777e+00 | -1.188512734 | 2.346315e-01 |\n",
       "| EducationFieldMarketing          | -1.016433e+00 | 1.446377e+00 | -0.702743956 | 4.822153e-01 |\n",
       "| EducationFieldMedical            | -1.611751e+00 | 1.413167e+00 | -1.140523993 | 2.540681e-01 |\n",
       "| EducationFieldOther              | -1.634223e+00 | 1.453974e+00 | -1.123970464 | 2.610256e-01 |\n",
       "| EducationFieldTechnical Degree   | -4.854205e-01 | 1.413271e+00 | -0.343473023 | 7.312426e-01 |\n",
       "| EnvironmentSatisfaction          | -5.176074e-01 | 1.073459e-01 | -4.821865756 | 1.422217e-06 |\n",
       "| GenderMale                       |  2.793797e-01 | 2.353262e-01 |  1.187202179 | 2.351479e-01 |\n",
       "| HourlyRate                       | -4.992999e-04 | 5.615119e-03 | -0.088920623 | 9.291450e-01 |\n",
       "| JobInvolvement                   | -6.604211e-01 | 1.589511e-01 | -4.154870535 | 3.254718e-05 |\n",
       "| JobLevel                         | -1.577266e-01 | 4.224757e-01 | -0.373338934 | 7.088962e-01 |\n",
       "| JobRoleHuman Resources           |  1.519114e+01 | 2.191850e+03 |  0.006930739 | 9.944701e-01 |\n",
       "| JobRoleLaboratory Technician     |  1.385532e+00 | 6.025364e-01 |  2.299499846 | 2.147657e-02 |\n",
       "| JobRoleManager                   | -2.457545e-01 | 1.377901e+00 | -0.178354185 | 8.584448e-01 |\n",
       "| JobRoleManufacturing Director    | -9.064005e-02 | 6.988801e-01 | -0.129693277 | 8.968091e-01 |\n",
       "| JobRoleResearch Director         | -1.586501e+01 | 6.612178e+02 | -0.023993617 | 9.808577e-01 |\n",
       "| JobRoleResearch Scientist        |  4.088818e-01 | 6.045361e-01 |  0.676356190 | 4.988145e-01 |\n",
       "| JobRoleSales Executive           | -3.871521e-01 | 1.676475e+00 | -0.230932194 | 8.173675e-01 |\n",
       "| JobRoleSales Representative      |  7.696644e-01 | 1.754291e+00 |  0.438732472 | 6.608554e-01 |\n",
       "| JobSatisfaction                  | -3.852783e-01 | 1.055415e-01 | -3.650492207 | 2.617383e-04 |\n",
       "| MaritalStatusMarried             |  1.303472e-01 | 3.265984e-01 |  0.399105390 | 6.898156e-01 |\n",
       "| MaritalStatusSingle              |  1.060621e+00 | 4.208714e-01 |  2.520060662 | 1.173346e-02 |\n",
       "| MonthlyIncome                    | -1.818661e-05 | 1.061272e-04 | -0.171366268 | 8.639358e-01 |\n",
       "| MonthlyRate                      |  2.091000e-05 | 1.603245e-05 |  1.304230020 | 1.921552e-01 |\n",
       "| NumCompaniesWorked               |  1.735991e-01 | 4.847573e-02 |  3.581155156 | 3.420784e-04 |\n",
       "| OverTimeYes                      |  2.127354e+00 | 2.516336e-01 |  8.454172904 | 2.810726e-17 |\n",
       "| PercentSalaryHike                | -2.924797e-03 | 5.003643e-02 | -0.058453355 | 9.533875e-01 |\n",
       "| PerformanceRating                | -8.047221e-02 | 5.194034e-01 | -0.154932013 | 8.768749e-01 |\n",
       "| RelationshipSatisfaction         | -3.125983e-01 | 1.080312e-01 | -2.893593901 | 3.808604e-03 |\n",
       "| StockOptionLevel                 | -1.627904e-01 | 1.964107e-01 | -0.828826270 | 4.072027e-01 |\n",
       "| TotalWorkingYears                | -2.623063e-02 | 3.753639e-02 | -0.698805532 | 4.846736e-01 |\n",
       "| TrainingTimesLastYear            | -1.973743e-01 | 9.295053e-02 | -2.123434192 | 3.371748e-02 |\n",
       "| WorkLifeBalance                  | -5.742816e-01 | 1.543753e-01 | -3.720035233 | 1.991950e-04 |\n",
       "| YearsAtCompany                   |  2.448083e-02 | 5.776359e-02 |  0.423810751 | 6.717038e-01 |\n",
       "| YearsInCurrentRole               | -1.893683e-01 | 6.185011e-02 | -3.061729488 | 2.200622e-03 |\n",
       "| YearsSinceLastPromotion          |  2.367605e-01 | 5.756613e-02 |  4.112843864 | 3.908147e-05 |\n",
       "| YearsWithCurrManager             | -1.045516e-01 | 6.637798e-02 | -1.575095174 | 1.152345e-01 |\n",
       "\n"
      ],
      "text/plain": [
       "   term                             estimate      std.error    statistic   \n",
       "1  (Intercept)                      -1.014717e+01 2.191850e+03 -0.004629499\n",
       "2  Age                              -3.949925e-02 1.755642e-02 -2.249846603\n",
       "3  BusinessTravelTravel_Frequently   1.683936e+00 5.309922e-01  3.171300462\n",
       "4  BusinessTravelTravel_Rarely       8.109927e-01 4.867602e-01  1.666103290\n",
       "5  DailyRate                        -1.657446e-04 2.874360e-04 -0.576631404\n",
       "6  DepartmentResearch & Development  1.525090e+01 2.191850e+03  0.006958004\n",
       "7  DepartmentSales                   1.641323e+01 2.191850e+03  0.007488303\n",
       "8  DistanceFromHome                  5.584796e-02 1.416061e-02  3.943894881\n",
       "9  Education                         5.755325e-02 1.116497e-01  0.515480384\n",
       "10 EducationFieldLife Sciences      -1.670784e+00 1.405777e+00 -1.188512734\n",
       "11 EducationFieldMarketing          -1.016433e+00 1.446377e+00 -0.702743956\n",
       "12 EducationFieldMedical            -1.611751e+00 1.413167e+00 -1.140523993\n",
       "13 EducationFieldOther              -1.634223e+00 1.453974e+00 -1.123970464\n",
       "14 EducationFieldTechnical Degree   -4.854205e-01 1.413271e+00 -0.343473023\n",
       "15 EnvironmentSatisfaction          -5.176074e-01 1.073459e-01 -4.821865756\n",
       "16 GenderMale                        2.793797e-01 2.353262e-01  1.187202179\n",
       "17 HourlyRate                       -4.992999e-04 5.615119e-03 -0.088920623\n",
       "18 JobInvolvement                   -6.604211e-01 1.589511e-01 -4.154870535\n",
       "19 JobLevel                         -1.577266e-01 4.224757e-01 -0.373338934\n",
       "20 JobRoleHuman Resources            1.519114e+01 2.191850e+03  0.006930739\n",
       "21 JobRoleLaboratory Technician      1.385532e+00 6.025364e-01  2.299499846\n",
       "22 JobRoleManager                   -2.457545e-01 1.377901e+00 -0.178354185\n",
       "23 JobRoleManufacturing Director    -9.064005e-02 6.988801e-01 -0.129693277\n",
       "24 JobRoleResearch Director         -1.586501e+01 6.612178e+02 -0.023993617\n",
       "25 JobRoleResearch Scientist         4.088818e-01 6.045361e-01  0.676356190\n",
       "26 JobRoleSales Executive           -3.871521e-01 1.676475e+00 -0.230932194\n",
       "27 JobRoleSales Representative       7.696644e-01 1.754291e+00  0.438732472\n",
       "28 JobSatisfaction                  -3.852783e-01 1.055415e-01 -3.650492207\n",
       "29 MaritalStatusMarried              1.303472e-01 3.265984e-01  0.399105390\n",
       "30 MaritalStatusSingle               1.060621e+00 4.208714e-01  2.520060662\n",
       "31 MonthlyIncome                    -1.818661e-05 1.061272e-04 -0.171366268\n",
       "32 MonthlyRate                       2.091000e-05 1.603245e-05  1.304230020\n",
       "33 NumCompaniesWorked                1.735991e-01 4.847573e-02  3.581155156\n",
       "34 OverTimeYes                       2.127354e+00 2.516336e-01  8.454172904\n",
       "35 PercentSalaryHike                -2.924797e-03 5.003643e-02 -0.058453355\n",
       "36 PerformanceRating                -8.047221e-02 5.194034e-01 -0.154932013\n",
       "37 RelationshipSatisfaction         -3.125983e-01 1.080312e-01 -2.893593901\n",
       "38 StockOptionLevel                 -1.627904e-01 1.964107e-01 -0.828826270\n",
       "39 TotalWorkingYears                -2.623063e-02 3.753639e-02 -0.698805532\n",
       "40 TrainingTimesLastYear            -1.973743e-01 9.295053e-02 -2.123434192\n",
       "41 WorkLifeBalance                  -5.742816e-01 1.543753e-01 -3.720035233\n",
       "42 YearsAtCompany                    2.448083e-02 5.776359e-02  0.423810751\n",
       "43 YearsInCurrentRole               -1.893683e-01 6.185011e-02 -3.061729488\n",
       "44 YearsSinceLastPromotion           2.367605e-01 5.756613e-02  4.112843864\n",
       "45 YearsWithCurrManager             -1.045516e-01 6.637798e-02 -1.575095174\n",
       "   p.value     \n",
       "1  9.963062e-01\n",
       "2  2.445868e-02\n",
       "3  1.517581e-03\n",
       "4  9.569284e-02\n",
       "5  5.641885e-01\n",
       "6  9.944484e-01\n",
       "7  9.940253e-01\n",
       "8  8.016881e-05\n",
       "9  6.062174e-01\n",
       "10 2.346315e-01\n",
       "11 4.822153e-01\n",
       "12 2.540681e-01\n",
       "13 2.610256e-01\n",
       "14 7.312426e-01\n",
       "15 1.422217e-06\n",
       "16 2.351479e-01\n",
       "17 9.291450e-01\n",
       "18 3.254718e-05\n",
       "19 7.088962e-01\n",
       "20 9.944701e-01\n",
       "21 2.147657e-02\n",
       "22 8.584448e-01\n",
       "23 8.968091e-01\n",
       "24 9.808577e-01\n",
       "25 4.988145e-01\n",
       "26 8.173675e-01\n",
       "27 6.608554e-01\n",
       "28 2.617383e-04\n",
       "29 6.898156e-01\n",
       "30 1.173346e-02\n",
       "31 8.639358e-01\n",
       "32 1.921552e-01\n",
       "33 3.420784e-04\n",
       "34 2.810726e-17\n",
       "35 9.533875e-01\n",
       "36 8.768749e-01\n",
       "37 3.808604e-03\n",
       "38 4.072027e-01\n",
       "39 4.846736e-01\n",
       "40 3.371748e-02\n",
       "41 1.991950e-04\n",
       "42 6.717038e-01\n",
       "43 2.200622e-03\n",
       "44 3.908147e-05\n",
       "45 1.152345e-01"
      ]
     },
     "metadata": {},
     "output_type": "display_data"
    }
   ],
   "source": [
    "lr_model <- logistic_reg() %>%\n",
    "    set_engine(\"glm\") %>%\n",
    "    set_mode(\"classification\") %>%\n",
    "    fit(Attrition ~ ., data = training_set)\n",
    "\n",
    "tidy(lr_model)"
   ]
  },
  {
   "cell_type": "code",
   "execution_count": 41,
   "metadata": {
    "vscode": {
     "languageId": "r"
    }
   },
   "outputs": [
    {
     "data": {
      "text/plain": [
       "Confusion Matrix and Statistics\n",
       "\n",
       "     \n",
       "       No Yes\n",
       "  No  350  44\n",
       "  Yes  42  37\n",
       "                                          \n",
       "               Accuracy : 0.8182          \n",
       "                 95% CI : (0.7804, 0.8519)\n",
       "    No Information Rate : 0.8288          \n",
       "    P-Value [Acc > NIR] : 0.7513          \n",
       "                                          \n",
       "                  Kappa : 0.3531          \n",
       "                                          \n",
       " Mcnemar's Test P-Value : 0.9141          \n",
       "                                          \n",
       "            Sensitivity : 0.8929          \n",
       "            Specificity : 0.4568          \n",
       "         Pos Pred Value : 0.8883          \n",
       "         Neg Pred Value : 0.4684          \n",
       "             Prevalence : 0.8288          \n",
       "         Detection Rate : 0.7400          \n",
       "   Detection Prevalence : 0.8330          \n",
       "      Balanced Accuracy : 0.6748          \n",
       "                                          \n",
       "       'Positive' Class : No              \n",
       "                                          "
      ]
     },
     "metadata": {},
     "output_type": "display_data"
    }
   ],
   "source": [
    "prediction_results <- predict(lr_model, new_data=testing_set, type = \"class\")\n",
    "\n",
    "# Confusion Matrix\n",
    "result_matrix <- table(testing_set$Attrition, prediction_results$.pred_class)\n",
    "confusionMatrix(result_matrix)"
   ]
  }
 ],
 "metadata": {
  "kernelspec": {
   "display_name": "R 3.3",
   "language": "R",
   "name": "ir33"
  },
  "language_info": {
   "codemirror_mode": "r",
   "file_extension": ".r",
   "mimetype": "text/x-r-source",
   "name": "R",
   "pygments_lexer": "r",
   "version": "4.3.2"
  }
 },
 "nbformat": 4,
 "nbformat_minor": 2
}
